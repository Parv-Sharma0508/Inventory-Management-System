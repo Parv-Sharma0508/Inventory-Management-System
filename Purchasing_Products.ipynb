{
 "cells": [
  {
   "cell_type": "markdown",
   "id": "0f04a108",
   "metadata": {},
   "source": [
    "## Read Inventory "
   ]
  },
  {
   "cell_type": "code",
   "execution_count": 76,
   "id": "0a782ed5",
   "metadata": {},
   "outputs": [],
   "source": [
    "import json\n",
    "\n",
    "fd=open('record.json','r')\n",
    "r=fd.read()\n",
    "fd.close()\n",
    "\n",
    "records=json.loads(r)"
   ]
  },
  {
   "cell_type": "code",
   "execution_count": 77,
   "id": "1df37eef",
   "metadata": {},
   "outputs": [
    {
     "data": {
      "text/plain": [
       "{'8428': {'Name': 'Maggi',\n",
       "  'Brand': 'Nestle',\n",
       "  'Product_Type': 'Noodles',\n",
       "  'Quantity': 50,\n",
       "  'Unit_Price': 12,\n",
       "  'Expiry Date': 'Best Before 3 Months',\n",
       "  'Special Discount(in Rs.)': 0},\n",
       " '8431': {'Name': 'Bru',\n",
       "  'Brand': 'Hindustan Unilever Limited',\n",
       "  'Product_Type': 'Coffee',\n",
       "  'Quantity': 19,\n",
       "  'Unit_Price': 340,\n",
       "  'Expiry Date': 'Best Before 12 Months',\n",
       "  'Special Discount(in Rs.)': 30},\n",
       " '8451': {'Name': 'Jasmine Hair Oil',\n",
       "  'Brand': 'Parachute',\n",
       "  'Product_Type': 'Hair Oil',\n",
       "  'Quantity': 5,\n",
       "  'Unit_Price': 140,\n",
       "  'Expiry Date': 'Best Before 24 Months',\n",
       "  'Special Discount(in Rs.)': 0},\n",
       " '8436': {'Name': 'Maggi Pazzta Masala',\n",
       "  'Brand': 'Nestle',\n",
       "  'Product_Type': 'Pasta',\n",
       "  'Quantity': 40,\n",
       "  'Unit_Price': 25,\n",
       "  'Expiry Date': 'Best Before 3 Months',\n",
       "  'Special Discount(in Rs.)': 0},\n",
       " '8452': {'Name': 'Heinz Tomato Ketchup',\n",
       "  'Brand': 'H. J. Heinz Company',\n",
       "  'Product_Type': 'Tomato Ketchup / Sauce',\n",
       "  'Quantity': 10,\n",
       "  'Unit_Price': 200,\n",
       "  'Expiry Date': 'Best Before 6 Months',\n",
       "  'Special Discount(in Rs.)': 5},\n",
       " '8443': {'Name': 'Kissan Mixed Fruit Jam ',\n",
       "  'Brand': 'Hindustan Unilever Limited',\n",
       "  'Product_Type': 'Jam',\n",
       "  'Quantity': 5,\n",
       "  'Unit_Price': 250,\n",
       "  'Expiry Date': 'Best Before 24 Months',\n",
       "  'Special Discount(in Rs.)': 10},\n",
       " '8430': {'Name': 'Amul Butter',\n",
       "  'Brand': 'Anand Milk Union Limited',\n",
       "  'Product_Type': 'Butter',\n",
       "  'Quantity': 20,\n",
       "  'Unit_Price': 48,\n",
       "  'Expiry Date': 'Best Before 12 Months',\n",
       "  'Special Discount(in Rs.)': 0},\n",
       " '8439': {'Name': 'Mother Dairy Full Cream Milk',\n",
       "  'Brand': 'Mother Dairy',\n",
       "  'Product_Type': 'Fresh Milk',\n",
       "  'Quantity': 50,\n",
       "  'Unit_Price': 57,\n",
       "  'Expiry Date': 'Best Before 2 Days',\n",
       "  'Special Discount(in Rs.)': 0},\n",
       " '8441': {'Name': 'Davidoff Café Espresso',\n",
       "  'Brand': 'Zino Davidoff Group',\n",
       "  'Product_Type': 'Coffee',\n",
       "  'Quantity': 3,\n",
       "  'Unit_Price': 460,\n",
       "  'Expiry Date': 'Best Before 14 Months',\n",
       "  'Special Discount(in Rs.)': 10},\n",
       " '8449': {'Name': 'Gillette Classic Sensitive Shave Foam',\n",
       "  'Brand': 'Gillette',\n",
       "  'Product_Type': 'Shaving cream',\n",
       "  'Quantity': 6,\n",
       "  'Unit_Price': 182,\n",
       "  'Expiry Date': 'Best Before 12 Months',\n",
       "  'Special Discount(in Rs.)': 3},\n",
       " '8450': {'Name': 'Cinthol',\n",
       "  'Brand': 'Godrej',\n",
       "  'Product_Type': 'Bathing soap',\n",
       "  'Quantity': 30,\n",
       "  'Unit_Price': 28,\n",
       "  'Expiry Date': 'Best Before 15 Months',\n",
       "  'Special Discount(in Rs.)': 0},\n",
       " '8444': {'Name': 'Sunfeast YiPPee',\n",
       "  'Brand': 'ITC company',\n",
       "  'Product_Type': 'Noodles',\n",
       "  'Quantity': 40,\n",
       "  'Unit_Price': 10,\n",
       "  'Expiry Date': 'Best Before 8 Months',\n",
       "  'Special Discount(in Rs.)': 0},\n",
       " '8446': {'Name': 'Dove Intense Repair Shampoo',\n",
       "  'Brand': 'Hindustan Unilever Limited',\n",
       "  'Product_Type': 'Shampoo',\n",
       "  'Quantity': 18,\n",
       "  'Unit_Price': 96,\n",
       "  'Expiry Date': 'Best Before 7 Months',\n",
       "  'Special Discount(in Rs.)': 0},\n",
       " '8432': {'Name': 'Dabur Amla',\n",
       "  'Brand': 'Dabur',\n",
       "  'Product_Type': 'Hair Oil',\n",
       "  'Quantity': 6,\n",
       "  'Unit_Price': 199,\n",
       "  'Expiry Date': 'Best Before 24 Months',\n",
       "  'Special Discount(in Rs.)': 0},\n",
       " '8433': {'Name': 'Wild Stone',\n",
       "  'Brand': 'McNroe',\n",
       "  'Product_Type': 'Deodarant',\n",
       "  'Quantity': 4,\n",
       "  'Unit_Price': 318,\n",
       "  'Expiry Date': 'Best Before 24 Months',\n",
       "  'Special Discount(in Rs.)': 30},\n",
       " '8426': {'Name': 'Sunfeast Pasta Cheese',\n",
       "  'Brand': 'ITC company',\n",
       "  'Product_Type': 'Pasta',\n",
       "  'Quantity': 20,\n",
       "  'Unit_Price': 25,\n",
       "  'Expiry Date': 'Best Before 6 Months',\n",
       "  'Special Discount(in Rs.)': 0},\n",
       " '8422': {'Name': 'AXE Ice Chill Shaving Foam',\n",
       "  'Brand': 'AXE',\n",
       "  'Product_Type': 'Shaving cream',\n",
       "  'Quantity': 5,\n",
       "  'Unit_Price': 170,\n",
       "  'Expiry Date': 'Best Before 8 Months',\n",
       "  'Special Discount(in Rs.)': 0},\n",
       " '8429': {'Name': 'WOW Skin Science Onion Shampoo',\n",
       "  'Brand': 'WOW',\n",
       "  'Product_Type': 'Shampoo',\n",
       "  'Quantity': 3,\n",
       "  'Unit_Price': 375,\n",
       "  'Expiry Date': 'Best Before 4 Months',\n",
       "  'Special Discount(in Rs.)': 20},\n",
       " '8442': {'Name': 'Tops Ketchup',\n",
       "  'Brand': 'G. D. Foods',\n",
       "  'Product_Type': 'Tomato Ketchup / Sauce',\n",
       "  'Quantity': 20,\n",
       "  'Unit_Price': 130,\n",
       "  'Expiry Date': 'Best Before 6 Months',\n",
       "  'Special Discount(in Rs.)': 20},\n",
       " '8438': {'Name': 'Vaseline Intensive Care',\n",
       "  'Brand': 'Unilever global company',\n",
       "  'Product_Type': 'Body lotion',\n",
       "  'Quantity': 30,\n",
       "  'Unit_Price': 237,\n",
       "  'Expiry Date': 'Best Before 21 Months',\n",
       "  'Special Discount(in Rs.)': 5},\n",
       " '8427': {'Name': 'Borges Penne Durum Wheat Pasta',\n",
       "  'Brand': 'Borges',\n",
       "  'Product_Type': 'Pasta',\n",
       "  'Quantity': 15,\n",
       "  'Unit_Price': 136,\n",
       "  'Expiry Date': 'Best Before 4 Months',\n",
       "  'Special Discount(in Rs.)': 3},\n",
       " '8445': {'Name': 'NIVEA MEN Shaving Foam',\n",
       "  'Brand': 'NIVEA',\n",
       "  'Product_Type': 'Shaving cream',\n",
       "  'Quantity': 8,\n",
       "  'Unit_Price': 200,\n",
       "  'Expiry Date': 'Best Before 14 Months',\n",
       "  'Special Discount(in Rs.)': 2},\n",
       " '8421': {'Name': 'Nescafe',\n",
       "  'Brand': 'Nestlé',\n",
       "  'Product_Type': 'Coffee',\n",
       "  'Quantity': 20,\n",
       "  'Unit_Price': 285,\n",
       "  'Expiry Date': 'Best Before 7 Months',\n",
       "  'Special Discount(in Rs.)': 5},\n",
       " '8448': {'Name': 'Medimix',\n",
       "  'Brand': 'Cholayil',\n",
       "  'Product_Type': 'Bathing soap',\n",
       "  'Quantity': 30,\n",
       "  'Unit_Price': 45,\n",
       "  'Expiry Date': 'Best Before 6 Months',\n",
       "  'Special Discount(in Rs.)': 0},\n",
       " '8435': {'Name': 'Bajaj almond hair Oil',\n",
       "  'Brand': 'Bajaj',\n",
       "  'Product_Type': 'Hair Oil',\n",
       "  'Quantity': 4,\n",
       "  'Unit_Price': 250,\n",
       "  'Expiry Date': 'Best Before 16 Months',\n",
       "  'Special Discount(in Rs.)': 0},\n",
       " '8434': {'Name': 'Fogg',\n",
       "  'Brand': 'Vini Cosmetics Private Limited',\n",
       "  'Product_Type': 'Deodarant',\n",
       "  'Quantity': 7,\n",
       "  'Unit_Price': 184,\n",
       "  'Expiry Date': 'Best Before 24 Months',\n",
       "  'Special Discount(in Rs.)': 0},\n",
       " '8440': {'Name': 'Kissan Fresh Tomato Ketchup ',\n",
       "  'Brand': 'Hindustan Unilever Limited',\n",
       "  'Product_Type': 'Tomato Ketchup / Sauce',\n",
       "  'Quantity': 12,\n",
       "  'Unit_Price': 130,\n",
       "  'Expiry Date': 'Best Before 4 Months',\n",
       "  'Special Discount(in Rs.)': 0},\n",
       " '8437': {'Name': 'Mother Dairy Butter ',\n",
       "  'Brand': 'Mother Dairy',\n",
       "  'Product_Type': 'Butter',\n",
       "  'Quantity': 42,\n",
       "  'Unit_Price': 48,\n",
       "  'Expiry Date': 'Best Before 12 Months',\n",
       "  'Special Discount(in Rs.)': 0},\n",
       " '8425': {'Name': 'Dettol Instant Hand Sanitizer',\n",
       "  'Brand': 'Dettol',\n",
       "  'Product_Type': 'Hand Sanitizer',\n",
       "  'Quantity': 10,\n",
       "  'Unit_Price': 46,\n",
       "  'Expiry Date': \"'Best Before 12 Months'\",\n",
       "  'Special Discount(in Rs.)': '0'},\n",
       " '8447': {'Name': 'Close Up',\n",
       "  'Brand': 'Hindustan Unilever',\n",
       "  'Product_Type': 'Toothpaste',\n",
       "  'Quantity': 25,\n",
       "  'Unit_Price': 65,\n",
       "  'Expiry Date': \"'Best Before 12 Months'\",\n",
       "  'Special Discount(in Rs.)': '2'}}"
      ]
     },
     "execution_count": 77,
     "metadata": {},
     "output_type": "execute_result"
    }
   ],
   "source": [
    "records"
   ]
  },
  {
   "cell_type": "markdown",
   "id": "f23196cf",
   "metadata": {},
   "source": [
    "# Purchase of products"
   ]
  },
  {
   "cell_type": "markdown",
   "id": "8e2418fc",
   "metadata": {},
   "source": [
    "## First Product "
   ]
  },
  {
   "cell_type": "code",
   "execution_count": 78,
   "id": "c9fd9fb7",
   "metadata": {},
   "outputs": [
    {
     "name": "stdout",
     "output_type": "stream",
     "text": [
      "Enter product id :8429\n",
      "Enter quantity :2\n"
     ]
    }
   ],
   "source": [
    "prod_id=int(input(\"Enter product id :\"))\n",
    "qn=int(input(\"Enter quantity :\"))\n"
   ]
  },
  {
   "cell_type": "markdown",
   "id": "a9b686a9",
   "metadata": {},
   "source": [
    "### Bill "
   ]
  },
  {
   "cell_type": "code",
   "execution_count": 79,
   "id": "0d1a4b5f",
   "metadata": {},
   "outputs": [
    {
     "name": "stdout",
     "output_type": "stream",
     "text": [
      "****  ****  ****  ****  ****  ****  ****  ****  ****  ****  ****\n",
      "Bill Number:  4411\n",
      "\n",
      "Purchase Date and Time:  04/09/2021 23:24:36\n",
      "\n",
      "Product Id:  8429\n",
      "\n",
      "Product Name:  WOW Skin Science Onion Shampoo\n",
      "\n",
      "Brand:  WOW\n",
      "\n",
      "Product Type:  Shampoo\n",
      "\n",
      "Quantity:  2\n",
      "\n",
      "Expiry Date:  Best Before 4 Months\n",
      "\n",
      "Sub Total:  750\n",
      "\n",
      "Special Discount Available per product(in Rs.):  20\n",
      "\n",
      "Total Amount after discount:  710\n",
      "\n",
      "Total Saving:  40\n",
      "****  ****  ****  ****  ****  ****  ****  ****  ****  ****  ****\n"
     ]
    }
   ],
   "source": [
    "print('****  ****  ****  ****  ****  ****  ****  ****  ****  ****  ****')\n",
    "import numpy as np\n",
    "num=np.random.randint(1245,4564,1)\n",
    "from datetime import datetime\n",
    "now=datetime.now()\n",
    "dt_string = now.strftime(\"%d/%m/%Y %H:%M:%S\")\n",
    "if qn > records[str(prod_id)]['Quantity']:\n",
    "    print('Available in less Quantity!!!!',end='\\n\\n')\n",
    "    print(\"Only \",records[str(prod_id)]['Quantity'],\" Left !!!\")\n",
    "else:\n",
    "    print('Bill Number: ',int(num),end='\\n\\n')\n",
    "    print(\"Purchase Date and Time: \",dt_string,end='\\n\\n')\n",
    "    print(\"Product Id: \",prod_id,end='\\n\\n')\n",
    "    print(\"Product Name: \",records[str(prod_id)]['Name'],end='\\n\\n')\n",
    "    print(\"Brand: \",records[str(prod_id)]['Brand'],end='\\n\\n')\n",
    "    print(\"Product Type: \",records[str(prod_id)]['Product_Type'],end='\\n\\n')\n",
    "    print(\"Quantity: \",qn,end='\\n\\n')\n",
    "    print(\"Expiry Date: \",records[str(prod_id)]['Expiry Date'],end='\\n\\n')\n",
    "    print(\"Sub Total: \",records[str(prod_id)]['Unit_Price']*qn,end='\\n\\n')\n",
    "    print(\"Special Discount Available per product(in Rs.): \",records[str(prod_id)]['Special Discount(in Rs.)'],end='\\n\\n')\n",
    "    print(\"Total Amount after discount: \",(records[str(prod_id)]['Unit_Price']*qn)-(records[str(prod_id)]['Special Discount(in Rs.)']*qn),end='\\n\\n')\n",
    "    print(\"Total Saving: \",records[str(prod_id)]['Special Discount(in Rs.)']*qn)\n",
    "    \n",
    "print('****  ****  ****  ****  ****  ****  ****  ****  ****  ****  ****')"
   ]
  },
  {
   "cell_type": "markdown",
   "id": "35593921",
   "metadata": {},
   "source": [
    "### Update Inventory after Purchase"
   ]
  },
  {
   "cell_type": "code",
   "execution_count": 80,
   "id": "a3fc34f5",
   "metadata": {},
   "outputs": [],
   "source": [
    "records[str(prod_id)]['Quantity']=records[str(prod_id)]['Quantity']-qn\n",
    "\n",
    "js=json.dumps(records)\n",
    "fd=open(\"record.json\",'w')\n",
    "fd.write(js)\n",
    "fd.close()"
   ]
  },
  {
   "cell_type": "markdown",
   "id": "32083177",
   "metadata": {},
   "source": [
    "### Sales JSON"
   ]
  },
  {
   "cell_type": "code",
   "execution_count": 81,
   "id": "2164e3fb",
   "metadata": {},
   "outputs": [],
   "source": [
    "sales={1:{'Product Id':prod_id,'Product Name':records[str(prod_id)]['Name'],'Quantity':qn,'Amount':(records[str(prod_id)]['Unit_Price']*qn)-(records[str(prod_id)]['Special Discount(in Rs.)'])*qn}}"
   ]
  },
  {
   "cell_type": "code",
   "execution_count": 82,
   "id": "1394fd87",
   "metadata": {},
   "outputs": [
    {
     "data": {
      "text/plain": [
       "{1: {'Product Id': 8429,\n",
       "  'Product Name': 'WOW Skin Science Onion Shampoo',\n",
       "  'Quantity': 2,\n",
       "  'Amount': 710}}"
      ]
     },
     "execution_count": 82,
     "metadata": {},
     "output_type": "execute_result"
    }
   ],
   "source": [
    "sales"
   ]
  },
  {
   "cell_type": "markdown",
   "id": "91980aa2",
   "metadata": {},
   "source": [
    "##  Second Product Bill"
   ]
  },
  {
   "cell_type": "code",
   "execution_count": 83,
   "id": "2422d7d2",
   "metadata": {},
   "outputs": [
    {
     "name": "stdout",
     "output_type": "stream",
     "text": [
      "Enter product id :8421\n",
      "Enter quantity :8\n",
      "****  ****  ****  ****  ****  ****  ****  ****  ****  ****  ****\n",
      "Bill Number:  2470\n",
      "\n",
      "Purchase Date and Time:  04/09/2021 23:29:06\n",
      "\n",
      "Product Id:  8421\n",
      "\n",
      "Product Name:  Nescafe\n",
      "\n",
      "Brand:  Nestlé\n",
      "\n",
      "Product Type:  Coffee\n",
      "\n",
      "Quantity:  8\n",
      "\n",
      "Expiry Date:  Best Before 7 Months\n",
      "\n",
      "Sub Total:  2280\n",
      "\n",
      "Special Discount Available per product(in Rs.):  5\n",
      "\n",
      "Total Amount after discount:  2240\n",
      "\n",
      "Total Saving:  40\n",
      "****  ****  ****  ****  ****  ****  ****  ****  ****  ****  ****\n"
     ]
    }
   ],
   "source": [
    "prod_id=int(input(\"Enter product id :\"))\n",
    "qn=int(input(\"Enter quantity :\"))\n",
    "\n",
    "print('****  ****  ****  ****  ****  ****  ****  ****  ****  ****  ****')\n",
    "num=np.random.randint(1245,4564,1)\n",
    "from datetime import datetime \n",
    "now=datetime.now()\n",
    "dt_string = now.strftime(\"%d/%m/%Y %H:%M:%S\")\n",
    "\n",
    "if qn > records[str(prod_id)]['Quantity']:\n",
    "    print('Available in less Quantity!!!!',end='\\n\\n')\n",
    "    print(\"Only \",records[str(prod_id)]['Quantity'],\" Left !!!\")\n",
    "else:\n",
    "    print('Bill Number: ',int(num),end='\\n\\n')\n",
    "    print(\"Purchase Date and Time: \",dt_string,end='\\n\\n')\n",
    "    print(\"Product Id: \",prod_id,end='\\n\\n')\n",
    "    print(\"Product Name: \",records[str(prod_id)]['Name'],end='\\n\\n')\n",
    "    print(\"Brand: \",records[str(prod_id)]['Brand'],end='\\n\\n')\n",
    "    print(\"Product Type: \",records[str(prod_id)]['Product_Type'],end='\\n\\n')\n",
    "    print(\"Quantity: \",qn,end='\\n\\n')\n",
    "    print(\"Expiry Date: \",records[str(prod_id)]['Expiry Date'],end='\\n\\n')\n",
    "    print(\"Sub Total: \",records[str(prod_id)]['Unit_Price']*qn,end='\\n\\n')\n",
    "    print(\"Special Discount Available per product(in Rs.): \",records[str(prod_id)]['Special Discount(in Rs.)'],end='\\n\\n')\n",
    "    print(\"Total Amount after discount: \",(records[str(prod_id)]['Unit_Price']*qn)-(records[str(prod_id)]['Special Discount(in Rs.)']*qn),end='\\n\\n')\n",
    "    print(\"Total Saving: \",records[str(prod_id)]['Special Discount(in Rs.)']*qn)\n",
    "    # Inventory Update\n",
    "    records[str(prod_id)]['Quantity']=records[str(prod_id)]['Quantity']-qn\n",
    "\n",
    "    js=json.dumps(records)\n",
    "    fd=open(\"record.json\",'w')\n",
    "    fd.write(js)\n",
    "    fd.close()\n",
    "print('****  ****  ****  ****  ****  ****  ****  ****  ****  ****  ****')\n",
    "\n"
   ]
  },
  {
   "cell_type": "markdown",
   "id": "08c0dabf",
   "metadata": {},
   "source": [
    "### Updating Sales JSON"
   ]
  },
  {
   "cell_type": "code",
   "execution_count": 84,
   "id": "6e5a5a9c",
   "metadata": {},
   "outputs": [],
   "source": [
    "sales[2]={'Product Id':prod_id,'Product Name':records[str(prod_id)]['Name'],'Quantity':qn,'Amount':(records[str(prod_id)]['Unit_Price']*qn)-(records[str(prod_id)]['Special Discount(in Rs.)'])*qn}"
   ]
  },
  {
   "cell_type": "code",
   "execution_count": 85,
   "id": "43721bee",
   "metadata": {},
   "outputs": [
    {
     "data": {
      "text/plain": [
       "{1: {'Product Id': 8429,\n",
       "  'Product Name': 'WOW Skin Science Onion Shampoo',\n",
       "  'Quantity': 2,\n",
       "  'Amount': 710},\n",
       " 2: {'Product Id': 8421,\n",
       "  'Product Name': 'Nescafe',\n",
       "  'Quantity': 8,\n",
       "  'Amount': 2240}}"
      ]
     },
     "execution_count": 85,
     "metadata": {},
     "output_type": "execute_result"
    }
   ],
   "source": [
    "sales"
   ]
  },
  {
   "cell_type": "markdown",
   "id": "4f1f1b71",
   "metadata": {},
   "source": [
    "## Third  Product Bill"
   ]
  },
  {
   "cell_type": "code",
   "execution_count": 92,
   "id": "59c259ce",
   "metadata": {},
   "outputs": [
    {
     "name": "stdout",
     "output_type": "stream",
     "text": [
      "Enter product id :8444\n",
      "Enter quantity :33\n",
      "****  ****  ****  ****  ****  ****  ****  ****  ****  ****  ****\n",
      "Bill Number:  1827\n",
      "\n",
      "Purchase Date and Time:  04/09/2021 23:44:44\n",
      "\n",
      "Product Id:  8444\n",
      "\n",
      "Product Name:  Sunfeast YiPPee\n",
      "\n",
      "Brand:  ITC company\n",
      "\n",
      "Product Type:  Noodles\n",
      "\n",
      "Quantity:  33\n",
      "\n",
      "Expiry Date:  Best Before 8 Months\n",
      "\n",
      "Sub Total:  330\n",
      "\n",
      "Special Discount Available per product(in Rs.):  0\n",
      "\n",
      "Total Amount after discount:  330\n",
      "\n",
      "Total Saving:  0\n",
      "****  ****  ****  ****  ****  ****  ****  ****  ****  ****  ****\n"
     ]
    }
   ],
   "source": [
    "prod_id=int(input(\"Enter product id :\"))\n",
    "qn=int(input(\"Enter quantity :\"))\n",
    "\n",
    "print('****  ****  ****  ****  ****  ****  ****  ****  ****  ****  ****')\n",
    "num=np.random.randint(1245,4564,1)\n",
    "from datetime import datetime \n",
    "now=datetime.now()\n",
    "dt_string = now.strftime(\"%d/%m/%Y %H:%M:%S\")\n",
    "\n",
    "if qn > records[str(prod_id)]['Quantity']:\n",
    "    print('Available in less Quantity!!!!',end='\\n\\n')\n",
    "    print(\"Only \",records[str(prod_id)]['Quantity'],\" Left !!!\")\n",
    "else:\n",
    "    print('Bill Number: ',int(num),end='\\n\\n')\n",
    "    print(\"Purchase Date and Time: \",dt_string,end='\\n\\n')\n",
    "    print(\"Product Id: \",prod_id,end='\\n\\n')\n",
    "    print(\"Product Name: \",records[str(prod_id)]['Name'],end='\\n\\n')\n",
    "    print(\"Brand: \",records[str(prod_id)]['Brand'],end='\\n\\n')\n",
    "    print(\"Product Type: \",records[str(prod_id)]['Product_Type'],end='\\n\\n')\n",
    "    print(\"Quantity: \",qn,end='\\n\\n')\n",
    "    print(\"Expiry Date: \",records[str(prod_id)]['Expiry Date'],end='\\n\\n')\n",
    "    print(\"Sub Total: \",records[str(prod_id)]['Unit_Price']*qn,end='\\n\\n')\n",
    "    print(\"Special Discount Available per product(in Rs.): \",records[str(prod_id)]['Special Discount(in Rs.)'],end='\\n\\n')\n",
    "    print(\"Total Amount after discount: \",(records[str(prod_id)]['Unit_Price']*qn)-(records[str(prod_id)]['Special Discount(in Rs.)']*qn),end='\\n\\n')\n",
    "    print(\"Total Saving: \",records[str(prod_id)]['Special Discount(in Rs.)']*qn)\n",
    "    # Inventory Update\n",
    "    records[str(prod_id)]['Quantity']=records[str(prod_id)]['Quantity']-qn\n",
    "\n",
    "    js=json.dumps(records)\n",
    "    fd=open(\"record.json\",'w')\n",
    "    fd.write(js)\n",
    "    fd.close()\n",
    "print('****  ****  ****  ****  ****  ****  ****  ****  ****  ****  ****')\n"
   ]
  },
  {
   "cell_type": "markdown",
   "id": "3fab7317",
   "metadata": {},
   "source": [
    "### Updating Sales JSON"
   ]
  },
  {
   "cell_type": "code",
   "execution_count": 93,
   "id": "b6d19ee4",
   "metadata": {},
   "outputs": [],
   "source": [
    "sales[3]={'Product Id':prod_id,'Product Name':records[str(prod_id)]['Name'],'Quantity':qn,'Amount':(records[str(prod_id)]['Unit_Price']*qn)-(records[str(prod_id)]['Special Discount(in Rs.)'])*qn}"
   ]
  },
  {
   "cell_type": "code",
   "execution_count": 96,
   "id": "acf4a3a0",
   "metadata": {},
   "outputs": [
    {
     "data": {
      "text/plain": [
       "{1: {'Product Id': 8429,\n",
       "  'Product Name': 'WOW Skin Science Onion Shampoo',\n",
       "  'Quantity': 2,\n",
       "  'Amount': 710},\n",
       " 2: {'Product Id': 8421,\n",
       "  'Product Name': 'Nescafe',\n",
       "  'Quantity': 8,\n",
       "  'Amount': 2240},\n",
       " 3: {'Product Id': 8444,\n",
       "  'Product Name': 'Sunfeast YiPPee',\n",
       "  'Quantity': 33,\n",
       "  'Amount': 330}}"
      ]
     },
     "execution_count": 96,
     "metadata": {},
     "output_type": "execute_result"
    }
   ],
   "source": [
    "sales"
   ]
  },
  {
   "cell_type": "markdown",
   "id": "1354d9fd",
   "metadata": {},
   "source": [
    "## Fourth Product Bill"
   ]
  },
  {
   "cell_type": "code",
   "execution_count": 97,
   "id": "94744c38",
   "metadata": {},
   "outputs": [
    {
     "name": "stdout",
     "output_type": "stream",
     "text": [
      "Enter product id :8431\n",
      "Enter quantity :6\n",
      "****  ****  ****  ****  ****  ****  ****  ****  ****  ****  ****\n",
      "Bill Number:  3497\n",
      "\n",
      "Purchase Date and Time:  05/09/2021 00:25:04\n",
      "\n",
      "Product Id:  8431\n",
      "\n",
      "Product Name:  Bru\n",
      "\n",
      "Brand:  Hindustan Unilever Limited\n",
      "\n",
      "Product Type:  Coffee\n",
      "\n",
      "Quantity:  6\n",
      "\n",
      "Expiry Date:  Best Before 12 Months\n",
      "\n",
      "Sub Total:  2040\n",
      "\n",
      "Special Discount Available per product(in Rs.):  30\n",
      "\n",
      "Total Amount after discount:  1860\n",
      "\n",
      "Total Saving:  180\n",
      "****  ****  ****  ****  ****  ****  ****  ****  ****  ****  ****\n"
     ]
    }
   ],
   "source": [
    "prod_id=int(input(\"Enter product id :\"))\n",
    "qn=int(input(\"Enter quantity :\"))\n",
    "\n",
    "print('****  ****  ****  ****  ****  ****  ****  ****  ****  ****  ****')\n",
    "num=np.random.randint(1245,4564,1)\n",
    "from datetime import datetime \n",
    "now=datetime.now()\n",
    "dt_string = now.strftime(\"%d/%m/%Y %H:%M:%S\")\n",
    "\n",
    "if qn > records[str(prod_id)]['Quantity']:\n",
    "    print('Available in less Quantity!!!!',end='\\n\\n')\n",
    "    print(\"Only \",records[str(prod_id)]['Quantity'],\" Left !!!\")\n",
    "else:\n",
    "    print('Bill Number: ',int(num),end='\\n\\n')\n",
    "    print(\"Purchase Date and Time: \",dt_string,end='\\n\\n')\n",
    "    print(\"Product Id: \",prod_id,end='\\n\\n')\n",
    "    print(\"Product Name: \",records[str(prod_id)]['Name'],end='\\n\\n')\n",
    "    print(\"Brand: \",records[str(prod_id)]['Brand'],end='\\n\\n')\n",
    "    print(\"Product Type: \",records[str(prod_id)]['Product_Type'],end='\\n\\n')\n",
    "    print(\"Quantity: \",qn,end='\\n\\n')\n",
    "    print(\"Expiry Date: \",records[str(prod_id)]['Expiry Date'],end='\\n\\n')\n",
    "    print(\"Sub Total: \",records[str(prod_id)]['Unit_Price']*qn,end='\\n\\n')\n",
    "    print(\"Special Discount Available per product(in Rs.): \",records[str(prod_id)]['Special Discount(in Rs.)'],end='\\n\\n')\n",
    "    print(\"Total Amount after discount: \",(records[str(prod_id)]['Unit_Price']*qn)-(records[str(prod_id)]['Special Discount(in Rs.)']*qn),end='\\n\\n')\n",
    "    print(\"Total Saving: \",records[str(prod_id)]['Special Discount(in Rs.)']*qn)\n",
    "    # Inventory Update\n",
    "    records[str(prod_id)]['Quantity']=records[str(prod_id)]['Quantity']-qn\n",
    "    js=json.dumps(records)\n",
    "    fd=open(\"record.json\",'w')\n",
    "    fd.write(js)\n",
    "    fd.close()\n",
    "print('****  ****  ****  ****  ****  ****  ****  ****  ****  ****  ****')\n"
   ]
  },
  {
   "cell_type": "markdown",
   "id": "eebe737b",
   "metadata": {},
   "source": [
    "### Updating Sales JSON"
   ]
  },
  {
   "cell_type": "code",
   "execution_count": 98,
   "id": "43e76c34",
   "metadata": {},
   "outputs": [],
   "source": [
    "sales[4]={'Product Id':prod_id,'Product Name':records[str(prod_id)]['Name'],'Quantity':qn,'Amount':(records[str(prod_id)]['Unit_Price']*qn)-(records[str(prod_id)]['Special Discount(in Rs.)'])*qn}"
   ]
  },
  {
   "cell_type": "code",
   "execution_count": 99,
   "id": "b56fcb7e",
   "metadata": {},
   "outputs": [
    {
     "data": {
      "text/plain": [
       "{1: {'Product Id': 8429,\n",
       "  'Product Name': 'WOW Skin Science Onion Shampoo',\n",
       "  'Quantity': 2,\n",
       "  'Amount': 710},\n",
       " 2: {'Product Id': 8421,\n",
       "  'Product Name': 'Nescafe',\n",
       "  'Quantity': 8,\n",
       "  'Amount': 2240},\n",
       " 3: {'Product Id': 8444,\n",
       "  'Product Name': 'Sunfeast YiPPee',\n",
       "  'Quantity': 33,\n",
       "  'Amount': 330},\n",
       " 4: {'Product Id': 8431, 'Product Name': 'Bru', 'Quantity': 6, 'Amount': 1860}}"
      ]
     },
     "execution_count": 99,
     "metadata": {},
     "output_type": "execute_result"
    }
   ],
   "source": [
    "sales"
   ]
  },
  {
   "cell_type": "markdown",
   "id": "dd682cb2",
   "metadata": {},
   "source": [
    "## Fifth Product Bill"
   ]
  },
  {
   "cell_type": "code",
   "execution_count": 100,
   "id": "bcdf747c",
   "metadata": {},
   "outputs": [
    {
     "name": "stdout",
     "output_type": "stream",
     "text": [
      "Enter product id :8438\n",
      "Enter quantity :18\n",
      "****  ****  ****  ****  ****  ****  ****  ****  ****  ****  ****\n",
      "Bill Number:  3176\n",
      "\n",
      "Purchase Date and Time:  05/09/2021 00:27:16\n",
      "\n",
      "Product Id:  8438\n",
      "\n",
      "Product Name:  Vaseline Intensive Care\n",
      "\n",
      "Brand:  Unilever global company\n",
      "\n",
      "Product Type:  Body lotion\n",
      "\n",
      "Quantity:  18\n",
      "\n",
      "Expiry Date:  Best Before 21 Months\n",
      "\n",
      "Sub Total:  4266\n",
      "\n",
      "Special Discount Available per product(in Rs.):  5\n",
      "\n",
      "Total Amount after discount:  4176\n",
      "\n",
      "Total Saving:  90\n",
      "****  ****  ****  ****  ****  ****  ****  ****  ****  ****  ****\n"
     ]
    }
   ],
   "source": [
    "prod_id=int(input(\"Enter product id :\"))\n",
    "qn=int(input(\"Enter quantity :\"))\n",
    "\n",
    "print('****  ****  ****  ****  ****  ****  ****  ****  ****  ****  ****')\n",
    "num=np.random.randint(1245,4564,1)\n",
    "from datetime import datetime \n",
    "now=datetime.now()\n",
    "dt_string = now.strftime(\"%d/%m/%Y %H:%M:%S\")\n",
    "\n",
    "if qn > records[str(prod_id)]['Quantity']:\n",
    "    print('Available in less Quantity!!!!',end='\\n\\n')\n",
    "    print(\"Only \",records[str(prod_id)]['Quantity'],\" Left !!!\")\n",
    "else:\n",
    "    print('Bill Number: ',int(num),end='\\n\\n')\n",
    "    print(\"Purchase Date and Time: \",dt_string,end='\\n\\n')\n",
    "    print(\"Product Id: \",prod_id,end='\\n\\n')\n",
    "    print(\"Product Name: \",records[str(prod_id)]['Name'],end='\\n\\n')\n",
    "    print(\"Brand: \",records[str(prod_id)]['Brand'],end='\\n\\n')\n",
    "    print(\"Product Type: \",records[str(prod_id)]['Product_Type'],end='\\n\\n')\n",
    "    print(\"Quantity: \",qn,end='\\n\\n')\n",
    "    print(\"Expiry Date: \",records[str(prod_id)]['Expiry Date'],end='\\n\\n')\n",
    "    print(\"Sub Total: \",records[str(prod_id)]['Unit_Price']*qn,end='\\n\\n')\n",
    "    print(\"Special Discount Available per product(in Rs.): \",records[str(prod_id)]['Special Discount(in Rs.)'],end='\\n\\n')\n",
    "    print(\"Total Amount after discount: \",(records[str(prod_id)]['Unit_Price']*qn)-(records[str(prod_id)]['Special Discount(in Rs.)']*qn),end='\\n\\n')\n",
    "    print(\"Total Saving: \",records[str(prod_id)]['Special Discount(in Rs.)']*qn)\n",
    "    # Inventory Update\n",
    "    records[str(prod_id)]['Quantity']=records[str(prod_id)]['Quantity']-qn\n",
    "\n",
    "    js=json.dumps(records)\n",
    "    fd=open(\"record.json\",'w')\n",
    "    fd.write(js)\n",
    "    fd.close()\n",
    "print('****  ****  ****  ****  ****  ****  ****  ****  ****  ****  ****') \n"
   ]
  },
  {
   "cell_type": "markdown",
   "id": "6b53aefb",
   "metadata": {},
   "source": [
    "### Updating Sales JSON"
   ]
  },
  {
   "cell_type": "code",
   "execution_count": 101,
   "id": "5a96b4e3",
   "metadata": {},
   "outputs": [],
   "source": [
    "sales[5]={'Product Id':prod_id,'Product Name':records[str(prod_id)]['Name'],'Quantity':qn,'Amount':(records[str(prod_id)]['Unit_Price']*qn)-(records[str(prod_id)]['Special Discount(in Rs.)'])*qn}"
   ]
  },
  {
   "cell_type": "code",
   "execution_count": 102,
   "id": "e4cf5f18",
   "metadata": {},
   "outputs": [
    {
     "data": {
      "text/plain": [
       "{1: {'Product Id': 8429,\n",
       "  'Product Name': 'WOW Skin Science Onion Shampoo',\n",
       "  'Quantity': 2,\n",
       "  'Amount': 710},\n",
       " 2: {'Product Id': 8421,\n",
       "  'Product Name': 'Nescafe',\n",
       "  'Quantity': 8,\n",
       "  'Amount': 2240},\n",
       " 3: {'Product Id': 8444,\n",
       "  'Product Name': 'Sunfeast YiPPee',\n",
       "  'Quantity': 33,\n",
       "  'Amount': 330},\n",
       " 4: {'Product Id': 8431, 'Product Name': 'Bru', 'Quantity': 6, 'Amount': 1860},\n",
       " 5: {'Product Id': 8438,\n",
       "  'Product Name': 'Vaseline Intensive Care',\n",
       "  'Quantity': 18,\n",
       "  'Amount': 4176}}"
      ]
     },
     "execution_count": 102,
     "metadata": {},
     "output_type": "execute_result"
    }
   ],
   "source": [
    "sales"
   ]
  },
  {
   "cell_type": "markdown",
   "id": "738d98e2",
   "metadata": {},
   "source": [
    "## Sixth Product "
   ]
  },
  {
   "cell_type": "code",
   "execution_count": 106,
   "id": "1c1e4fc6",
   "metadata": {},
   "outputs": [
    {
     "name": "stdout",
     "output_type": "stream",
     "text": [
      "Enter product id :8447\n",
      "Enter quantity :30\n",
      "****  ****  ****  ****  ****  ****  ****  ****  ****  ****  ****\n",
      "Available in less Quantity!!!!\n",
      "\n",
      "Only  25  Left !!!\n",
      "****  ****  ****  ****  ****  ****  ****  ****  ****  ****  ****\n"
     ]
    }
   ],
   "source": [
    "prod_id=int(input(\"Enter product id :\"))\n",
    "qn=int(input(\"Enter quantity :\"))\n",
    "\n",
    "print('****  ****  ****  ****  ****  ****  ****  ****  ****  ****  ****')\n",
    "num=np.random.randint(1245,4564,1)\n",
    "from datetime import datetime \n",
    "now=datetime.now()\n",
    "dt_string = now.strftime(\"%d/%m/%Y %H:%M:%S\")\n",
    "\n",
    "if qn > records[str(prod_id)]['Quantity']:\n",
    "    print('Available in less Quantity!!!!',end='\\n\\n')\n",
    "    print(\"Only \",records[str(prod_id)]['Quantity'],\" Left !!!\")\n",
    "else:\n",
    "    print('Bill Number: ',int(num),end='\\n\\n')\n",
    "    print(\"Purchase Date and Time: \",dt_string,end='\\n\\n')\n",
    "    print(\"Product Id: \",prod_id,end='\\n\\n')\n",
    "    print(\"Product Name: \",records[str(prod_id)]['Name'],end='\\n\\n')\n",
    "    print(\"Brand: \",records[str(prod_id)]['Brand'],end='\\n\\n')\n",
    "    print(\"Product Type: \",records[str(prod_id)]['Product_Type'],end='\\n\\n')\n",
    "    print(\"Quantity: \",qn,end='\\n\\n')\n",
    "    print(\"Expiry Date: \",records[str(prod_id)]['Expiry Date'],end='\\n\\n')\n",
    "    print(\"Sub Total: \",records[str(prod_id)]['Unit_Price']*qn,end='\\n\\n')\n",
    "    print(\"Special Discount Available per product(in Rs.): \",records[str(prod_id)]['Special Discount(in Rs.)'],end='\\n\\n')\n",
    "    print(\"Total Amount after discount: \",(records[str(prod_id)]['Unit_Price']*qn)-(records[str(prod_id)]['Special Discount(in Rs.)']*qn),end='\\n\\n')\n",
    "    print(\"Total Saving: \",records[str(prod_id)]['Special Discount(in Rs.)']*qn)\n",
    "    # Inventory Update\n",
    "    records[str(prod_id)]['Quantity']=records[str(prod_id)]['Quantity']-qn\n",
    "\n",
    "    js=json.dumps(records)\n",
    "    fd=open(\"record.json\",'w')\n",
    "    fd.write(js)\n",
    "    fd.close()\n",
    "print('****  ****  ****  ****  ****  ****  ****  ****  ****  ****  ****') "
   ]
  },
  {
   "cell_type": "markdown",
   "id": "973fba8c",
   "metadata": {},
   "source": [
    "## Updating Sales JSON"
   ]
  },
  {
   "cell_type": "code",
   "execution_count": 107,
   "id": "36941b55",
   "metadata": {},
   "outputs": [
    {
     "data": {
      "text/plain": [
       "<function TextIOWrapper.close()>"
      ]
     },
     "execution_count": 107,
     "metadata": {},
     "output_type": "execute_result"
    }
   ],
   "source": [
    "sale=json.dumps(sales)\n",
    "\n",
    "fd=open(\"sales.json\",'w')\n",
    "fd.write(sale)\n",
    "fd.close"
   ]
  },
  {
   "cell_type": "code",
   "execution_count": null,
   "id": "4e6a5c3c",
   "metadata": {},
   "outputs": [],
   "source": []
  }
 ],
 "metadata": {
  "kernelspec": {
   "display_name": "Python 3",
   "language": "python",
   "name": "python3"
  },
  "language_info": {
   "codemirror_mode": {
    "name": "ipython",
    "version": 3
   },
   "file_extension": ".py",
   "mimetype": "text/x-python",
   "name": "python",
   "nbconvert_exporter": "python",
   "pygments_lexer": "ipython3",
   "version": "3.8.8"
  }
 },
 "nbformat": 4,
 "nbformat_minor": 5
}
