{
 "cells": [
  {
   "cell_type": "markdown",
   "id": "972a7314",
   "metadata": {},
   "source": [
    "## Read Data from JSON"
   ]
  },
  {
   "cell_type": "code",
   "execution_count": 33,
   "id": "928d0313",
   "metadata": {},
   "outputs": [],
   "source": [
    "import json"
   ]
  },
  {
   "cell_type": "code",
   "execution_count": 3,
   "id": "e80dc0d4",
   "metadata": {},
   "outputs": [],
   "source": [
    "fd=open('record.json','r')\n",
    "r=fd.read()\n",
    "fd.close\n",
    "\n",
    "record=json.loads(r)"
   ]
  },
  {
   "cell_type": "markdown",
   "id": "b881aff3",
   "metadata": {},
   "source": [
    "##  Different Products"
   ]
  },
  {
   "cell_type": "code",
   "execution_count": 4,
   "id": "d020b070",
   "metadata": {},
   "outputs": [
    {
     "data": {
      "text/plain": [
       "{'8428': {'Name': 'Maggi',\n",
       "  'Brand': 'Nestle',\n",
       "  'Product_Type': 'Noodles',\n",
       "  'Quantity': 50,\n",
       "  'Unit_Price': 12,\n",
       "  'Expiry Date': 'Best Before 3 Months',\n",
       "  'Special Discount(in Rs.)': 0},\n",
       " '8431': {'Name': 'Bru',\n",
       "  'Brand': 'Hindustan Unilever Limited',\n",
       "  'Product_Type': 'Coffee',\n",
       "  'Quantity': 19,\n",
       "  'Unit_Price': 340,\n",
       "  'Expiry Date': 'Best Before 12 Months',\n",
       "  'Special Discount(in Rs.)': 30},\n",
       " '8451': {'Name': 'Jasmine Hair Oil',\n",
       "  'Brand': 'Parachute',\n",
       "  'Product_Type': 'Hair Oil',\n",
       "  'Quantity': 5,\n",
       "  'Unit_Price': 140,\n",
       "  'Expiry Date': 'Best Before 24 Months',\n",
       "  'Special Discount(in Rs.)': 0},\n",
       " '8436': {'Name': 'Maggi Pazzta Masala',\n",
       "  'Brand': 'Nestle',\n",
       "  'Product_Type': 'Pasta',\n",
       "  'Quantity': 40,\n",
       "  'Unit_Price': 25,\n",
       "  'Expiry Date': 'Best Before 3 Months',\n",
       "  'Special Discount(in Rs.)': 0},\n",
       " '8452': {'Name': 'Heinz Tomato Ketchup',\n",
       "  'Brand': 'H. J. Heinz Company',\n",
       "  'Product_Type': 'Tomato Ketchup / Sauce',\n",
       "  'Quantity': 10,\n",
       "  'Unit_Price': 200,\n",
       "  'Expiry Date': 'Best Before 6 Months',\n",
       "  'Special Discount(in Rs.)': 5},\n",
       " '8443': {'Name': 'Kissan Mixed Fruit Jam ',\n",
       "  'Brand': 'Hindustan Unilever Limited',\n",
       "  'Product_Type': 'Jam',\n",
       "  'Quantity': 5,\n",
       "  'Unit_Price': 250,\n",
       "  'Expiry Date': 'Best Before 24 Months',\n",
       "  'Special Discount(in Rs.)': 10},\n",
       " '8430': {'Name': 'Amul Butter',\n",
       "  'Brand': 'Anand Milk Union Limited',\n",
       "  'Product_Type': 'Butter',\n",
       "  'Quantity': 20,\n",
       "  'Unit_Price': 48,\n",
       "  'Expiry Date': 'Best Before 12 Months',\n",
       "  'Special Discount(in Rs.)': 0},\n",
       " '8439': {'Name': 'Mother Dairy Full Cream Milk',\n",
       "  'Brand': 'Mother Dairy',\n",
       "  'Product_Type': 'Fresh Milk',\n",
       "  'Quantity': 50,\n",
       "  'Unit_Price': 57,\n",
       "  'Expiry Date': 'Best Before 2 Days',\n",
       "  'Special Discount(in Rs.)': 0},\n",
       " '8441': {'Name': 'Davidoff Café Espresso',\n",
       "  'Brand': 'Zino Davidoff Group',\n",
       "  'Product_Type': 'Coffee',\n",
       "  'Quantity': 3,\n",
       "  'Unit_Price': 460,\n",
       "  'Expiry Date': 'Best Before 14 Months',\n",
       "  'Special Discount(in Rs.)': 10},\n",
       " '8449': {'Name': 'Gillette Classic Sensitive Shave Foam',\n",
       "  'Brand': 'Gillette',\n",
       "  'Product_Type': 'Shaving cream',\n",
       "  'Quantity': 6,\n",
       "  'Unit_Price': 182,\n",
       "  'Expiry Date': 'Best Before 12 Months',\n",
       "  'Special Discount(in Rs.)': 3},\n",
       " '8450': {'Name': 'Cinthol',\n",
       "  'Brand': 'Godrej',\n",
       "  'Product_Type': 'Bathing soap',\n",
       "  'Quantity': 30,\n",
       "  'Unit_Price': 28,\n",
       "  'Expiry Date': 'Best Before 15 Months',\n",
       "  'Special Discount(in Rs.)': 0},\n",
       " '8444': {'Name': 'Sunfeast YiPPee',\n",
       "  'Brand': 'ITC company',\n",
       "  'Product_Type': 'Noodles',\n",
       "  'Quantity': 40,\n",
       "  'Unit_Price': 10,\n",
       "  'Expiry Date': 'Best Before 8 Months',\n",
       "  'Special Discount(in Rs.)': 0},\n",
       " '8446': {'Name': 'Dove Intense Repair Shampoo',\n",
       "  'Brand': 'Hindustan Unilever Limited',\n",
       "  'Product_Type': 'Shampoo',\n",
       "  'Quantity': 18,\n",
       "  'Unit_Price': 96,\n",
       "  'Expiry Date': 'Best Before 7 Months',\n",
       "  'Special Discount(in Rs.)': 0},\n",
       " '8432': {'Name': 'Dabur Amla',\n",
       "  'Brand': 'Dabur',\n",
       "  'Product_Type': 'Hair Oil',\n",
       "  'Quantity': 6,\n",
       "  'Unit_Price': 199,\n",
       "  'Expiry Date': 'Best Before 24 Months',\n",
       "  'Special Discount(in Rs.)': 0},\n",
       " '8433': {'Name': 'Wild Stone',\n",
       "  'Brand': 'McNroe',\n",
       "  'Product_Type': 'Deodarant',\n",
       "  'Quantity': 4,\n",
       "  'Unit_Price': 318,\n",
       "  'Expiry Date': 'Best Before 24 Months',\n",
       "  'Special Discount(in Rs.)': 30},\n",
       " '8426': {'Name': 'Sunfeast Pasta Cheese',\n",
       "  'Brand': 'ITC company',\n",
       "  'Product_Type': 'Pasta',\n",
       "  'Quantity': 20,\n",
       "  'Unit_Price': 25,\n",
       "  'Expiry Date': 'Best Before 6 Months',\n",
       "  'Special Discount(in Rs.)': 0},\n",
       " '8422': {'Name': 'AXE Ice Chill Shaving Foam',\n",
       "  'Brand': 'AXE',\n",
       "  'Product_Type': 'Shaving cream',\n",
       "  'Quantity': 5,\n",
       "  'Unit_Price': 170,\n",
       "  'Expiry Date': 'Best Before 8 Months',\n",
       "  'Special Discount(in Rs.)': 0},\n",
       " '8429': {'Name': 'WOW Skin Science Onion Shampoo',\n",
       "  'Brand': 'WOW',\n",
       "  'Product_Type': 'Shampoo',\n",
       "  'Quantity': 3,\n",
       "  'Unit_Price': 375,\n",
       "  'Expiry Date': 'Best Before 4 Months',\n",
       "  'Special Discount(in Rs.)': 20},\n",
       " '8442': {'Name': 'Tops Ketchup',\n",
       "  'Brand': 'G. D. Foods',\n",
       "  'Product_Type': 'Tomato Ketchup / Sauce',\n",
       "  'Quantity': 20,\n",
       "  'Unit_Price': 130,\n",
       "  'Expiry Date': 'Best Before 6 Months',\n",
       "  'Special Discount(in Rs.)': 20},\n",
       " '8438': {'Name': 'Vaseline Intensive Care',\n",
       "  'Brand': 'Unilever global company',\n",
       "  'Product_Type': 'Body lotion',\n",
       "  'Quantity': 30,\n",
       "  'Unit_Price': 237,\n",
       "  'Expiry Date': 'Best Before 21 Months',\n",
       "  'Special Discount(in Rs.)': 5},\n",
       " '8427': {'Name': 'Borges Penne Durum Wheat Pasta',\n",
       "  'Brand': 'Borges',\n",
       "  'Product_Type': 'Pasta',\n",
       "  'Quantity': 15,\n",
       "  'Unit_Price': 136,\n",
       "  'Expiry Date': 'Best Before 4 Months',\n",
       "  'Special Discount(in Rs.)': 3},\n",
       " '8445': {'Name': 'NIVEA MEN Shaving Foam',\n",
       "  'Brand': 'NIVEA',\n",
       "  'Product_Type': 'Shaving cream',\n",
       "  'Quantity': 8,\n",
       "  'Unit_Price': 200,\n",
       "  'Expiry Date': 'Best Before 14 Months',\n",
       "  'Special Discount(in Rs.)': 2},\n",
       " '8421': {'Name': 'Nescafe',\n",
       "  'Brand': 'Nestlé',\n",
       "  'Product_Type': 'Coffee',\n",
       "  'Quantity': 20,\n",
       "  'Unit_Price': 285,\n",
       "  'Expiry Date': 'Best Before 7 Months',\n",
       "  'Special Discount(in Rs.)': 5},\n",
       " '8448': {'Name': 'Medimix',\n",
       "  'Brand': 'Cholayil',\n",
       "  'Product_Type': 'Bathing soap',\n",
       "  'Quantity': 30,\n",
       "  'Unit_Price': 45,\n",
       "  'Expiry Date': 'Best Before 6 Months',\n",
       "  'Special Discount(in Rs.)': 0},\n",
       " '8435': {'Name': 'Bajaj almond hair Oil',\n",
       "  'Brand': 'Bajaj',\n",
       "  'Product_Type': 'Hair Oil',\n",
       "  'Quantity': 4,\n",
       "  'Unit_Price': 250,\n",
       "  'Expiry Date': 'Best Before 16 Months',\n",
       "  'Special Discount(in Rs.)': 0},\n",
       " '8434': {'Name': 'Fogg',\n",
       "  'Brand': 'Vini Cosmetics Private Limited',\n",
       "  'Product_Type': 'Deodarant',\n",
       "  'Quantity': 7,\n",
       "  'Unit_Price': 184,\n",
       "  'Expiry Date': 'Best Before 24 Months',\n",
       "  'Special Discount(in Rs.)': 0},\n",
       " '8440': {'Name': 'Kissan Fresh Tomato Ketchup ',\n",
       "  'Brand': 'Hindustan Unilever Limited',\n",
       "  'Product_Type': 'Tomato Ketchup / Sauce',\n",
       "  'Quantity': 12,\n",
       "  'Unit_Price': 130,\n",
       "  'Expiry Date': 'Best Before 4 Months',\n",
       "  'Special Discount(in Rs.)': 0},\n",
       " '8437': {'Name': 'Mother Dairy Butter ',\n",
       "  'Brand': 'Mother Dairy',\n",
       "  'Product_Type': 'Butter',\n",
       "  'Quantity': 42,\n",
       "  'Unit_Price': 48,\n",
       "  'Expiry Date': 'Best Before 12 Months',\n",
       "  'Special Discount(in Rs.)': 0}}"
      ]
     },
     "execution_count": 4,
     "metadata": {},
     "output_type": "execute_result"
    }
   ],
   "source": [
    "record"
   ]
  },
  {
   "cell_type": "markdown",
   "id": "4f770644",
   "metadata": {},
   "source": [
    "### Total Products in record"
   ]
  },
  {
   "cell_type": "code",
   "execution_count": 23,
   "id": "05d72372",
   "metadata": {},
   "outputs": [
    {
     "name": "stdout",
     "output_type": "stream",
     "text": [
      "Total Products in record= 28\n"
     ]
    }
   ],
   "source": [
    "print('Total Products in record=',len(record))"
   ]
  },
  {
   "cell_type": "markdown",
   "id": "3fbed2e2",
   "metadata": {},
   "source": [
    "### Types of products"
   ]
  },
  {
   "cell_type": "code",
   "execution_count": 24,
   "id": "b139f6bb",
   "metadata": {},
   "outputs": [
    {
     "name": "stdout",
     "output_type": "stream",
     "text": [
      "Types of products= ['Noodles', 'Coffee', 'Hair Oil', 'Pasta', 'Tomato Ketchup / Sauce', 'Jam', 'Butter', 'Fresh Milk', 'Shaving cream', 'Bathing soap', 'Shampoo', 'Deodarant', 'Body lotion']\n"
     ]
    }
   ],
   "source": [
    "lst=[]\n",
    "for i in record:\n",
    "    if(record[i]['Product_Type'] not in lst):\n",
    "        lst.append(record[i]['Product_Type'])\n",
    "print('Types of products=',lst)"
   ]
  },
  {
   "cell_type": "markdown",
   "id": "302376e8",
   "metadata": {},
   "source": [
    "# Add New Products into Inventory\n"
   ]
  },
  {
   "cell_type": "markdown",
   "id": "d46498b5",
   "metadata": {},
   "source": [
    "### Adding First Product"
   ]
  },
  {
   "cell_type": "code",
   "execution_count": 18,
   "id": "d83b5eee",
   "metadata": {},
   "outputs": [
    {
     "name": "stdout",
     "output_type": "stream",
     "text": [
      "Enter product id:8425\n",
      "Enter Name of the product:Dettol Instant Hand Sanitizer\n",
      "Enter Brand of the product:Dettol\n",
      "Enter product type:Hand Sanitizer\n",
      "Enter quantity:10\n",
      "Enter unit price of the product:46\n",
      "Enter Expiry date of the product:'Best Before 12 Months'\n",
      "Enter Special Discount on a product(in Rs.):0\n"
     ]
    }
   ],
   "source": [
    "product_id=input('Enter product id:')\n",
    "name=input('Enter Name of the product:')\n",
    "brand=input('Enter Brand of the product:')\n",
    "prod_type=input('Enter product type:')\n",
    "qn=int(input('Enter quantity:'))\n",
    "pr=int(input('Enter unit price of the product:'))\n",
    "exp=input('Enter Expiry date of the product:')\n",
    "dis=input('Enter Special Discount on a product(in Rs.):')\n"
   ]
  },
  {
   "cell_type": "code",
   "execution_count": 25,
   "id": "5c037a93",
   "metadata": {},
   "outputs": [],
   "source": [
    "record[product_id]={'Name':name,'Brand':brand,'Product_Type':prod_type,'Quantity':qn,'Unit_Price':pr,'Expiry Date':exp,'Special Discount(in Rs.)':dis}"
   ]
  },
  {
   "cell_type": "markdown",
   "id": "b5907df1",
   "metadata": {},
   "source": [
    "### Adding Second Product"
   ]
  },
  {
   "cell_type": "code",
   "execution_count": 26,
   "id": "d039a05b",
   "metadata": {},
   "outputs": [
    {
     "name": "stdout",
     "output_type": "stream",
     "text": [
      "Enter product id:8447\n",
      "Enter Name of the product:Close Up\n",
      "Enter Brand of the product:Hindustan Unilever\n",
      "Enter product type:Toothpaste\n",
      "Enter quantity:25\n",
      "Enter unit price of the product:65\n",
      "Enter Expiry date of the product:'Best Before 12 Months'\n",
      "Enter Special Discount on a product(in Rs.):2\n"
     ]
    }
   ],
   "source": [
    "product_id=input('Enter product id:')\n",
    "name=input('Enter Name of the product:')\n",
    "brand=input('Enter Brand of the product:')\n",
    "prod_type=input('Enter product type:')\n",
    "qn=int(input('Enter quantity:'))\n",
    "pr=int(input('Enter unit price of the product:'))\n",
    "exp=input('Enter Expiry date of the product:')\n",
    "dis=input('Enter Special Discount on a product(in Rs.):')\n"
   ]
  },
  {
   "cell_type": "code",
   "execution_count": 27,
   "id": "c8dc1337",
   "metadata": {},
   "outputs": [],
   "source": [
    "record[product_id]={'Name':name,'Brand':brand,'Product_Type':prod_type,'Quantity':qn,'Unit_Price':pr,'Expiry Date':exp,'Special Discount(in Rs.)':dis}"
   ]
  },
  {
   "cell_type": "markdown",
   "id": "1a37213c",
   "metadata": {},
   "source": [
    "##  Total Product after addition of new products"
   ]
  },
  {
   "cell_type": "code",
   "execution_count": 28,
   "id": "b7efdf74",
   "metadata": {},
   "outputs": [
    {
     "name": "stdout",
     "output_type": "stream",
     "text": [
      "Total Products after addition of new product= 30\n"
     ]
    }
   ],
   "source": [
    "print('Total Products after addition of new product=',len(record))"
   ]
  },
  {
   "cell_type": "markdown",
   "id": "e9adbe2e",
   "metadata": {},
   "source": [
    "## Types of products after addition of new products"
   ]
  },
  {
   "cell_type": "code",
   "execution_count": 30,
   "id": "a3e51ccd",
   "metadata": {},
   "outputs": [
    {
     "name": "stdout",
     "output_type": "stream",
     "text": [
      "Types of products after addition of new product= ['Noodles', 'Coffee', 'Hair Oil', 'Pasta', 'Tomato Ketchup / Sauce', 'Jam', 'Butter', 'Fresh Milk', 'Shaving cream', 'Bathing soap', 'Shampoo', 'Deodarant', 'Body lotion', 'Hand Sanitizer', 'Toothpaste']\n"
     ]
    }
   ],
   "source": [
    "lst=[]\n",
    "for i in record:\n",
    "    if(record[i]['Product_Type'] not in lst):\n",
    "        lst.append(record[i]['Product_Type'])\n",
    "print('Types of products after addition of new product=',lst)"
   ]
  },
  {
   "cell_type": "markdown",
   "id": "147f29e5",
   "metadata": {},
   "source": [
    "## Different Products after addition of new products"
   ]
  },
  {
   "cell_type": "code",
   "execution_count": 31,
   "id": "b8be810c",
   "metadata": {},
   "outputs": [
    {
     "data": {
      "text/plain": [
       "{'8428': {'Name': 'Maggi',\n",
       "  'Brand': 'Nestle',\n",
       "  'Product_Type': 'Noodles',\n",
       "  'Quantity': 50,\n",
       "  'Unit_Price': 12,\n",
       "  'Expiry Date': 'Best Before 3 Months',\n",
       "  'Special Discount(in Rs.)': 0},\n",
       " '8431': {'Name': 'Bru',\n",
       "  'Brand': 'Hindustan Unilever Limited',\n",
       "  'Product_Type': 'Coffee',\n",
       "  'Quantity': 19,\n",
       "  'Unit_Price': 340,\n",
       "  'Expiry Date': 'Best Before 12 Months',\n",
       "  'Special Discount(in Rs.)': 30},\n",
       " '8451': {'Name': 'Jasmine Hair Oil',\n",
       "  'Brand': 'Parachute',\n",
       "  'Product_Type': 'Hair Oil',\n",
       "  'Quantity': 5,\n",
       "  'Unit_Price': 140,\n",
       "  'Expiry Date': 'Best Before 24 Months',\n",
       "  'Special Discount(in Rs.)': 0},\n",
       " '8436': {'Name': 'Maggi Pazzta Masala',\n",
       "  'Brand': 'Nestle',\n",
       "  'Product_Type': 'Pasta',\n",
       "  'Quantity': 40,\n",
       "  'Unit_Price': 25,\n",
       "  'Expiry Date': 'Best Before 3 Months',\n",
       "  'Special Discount(in Rs.)': 0},\n",
       " '8452': {'Name': 'Heinz Tomato Ketchup',\n",
       "  'Brand': 'H. J. Heinz Company',\n",
       "  'Product_Type': 'Tomato Ketchup / Sauce',\n",
       "  'Quantity': 10,\n",
       "  'Unit_Price': 200,\n",
       "  'Expiry Date': 'Best Before 6 Months',\n",
       "  'Special Discount(in Rs.)': 5},\n",
       " '8443': {'Name': 'Kissan Mixed Fruit Jam ',\n",
       "  'Brand': 'Hindustan Unilever Limited',\n",
       "  'Product_Type': 'Jam',\n",
       "  'Quantity': 5,\n",
       "  'Unit_Price': 250,\n",
       "  'Expiry Date': 'Best Before 24 Months',\n",
       "  'Special Discount(in Rs.)': 10},\n",
       " '8430': {'Name': 'Amul Butter',\n",
       "  'Brand': 'Anand Milk Union Limited',\n",
       "  'Product_Type': 'Butter',\n",
       "  'Quantity': 20,\n",
       "  'Unit_Price': 48,\n",
       "  'Expiry Date': 'Best Before 12 Months',\n",
       "  'Special Discount(in Rs.)': 0},\n",
       " '8439': {'Name': 'Mother Dairy Full Cream Milk',\n",
       "  'Brand': 'Mother Dairy',\n",
       "  'Product_Type': 'Fresh Milk',\n",
       "  'Quantity': 50,\n",
       "  'Unit_Price': 57,\n",
       "  'Expiry Date': 'Best Before 2 Days',\n",
       "  'Special Discount(in Rs.)': 0},\n",
       " '8441': {'Name': 'Davidoff Café Espresso',\n",
       "  'Brand': 'Zino Davidoff Group',\n",
       "  'Product_Type': 'Coffee',\n",
       "  'Quantity': 3,\n",
       "  'Unit_Price': 460,\n",
       "  'Expiry Date': 'Best Before 14 Months',\n",
       "  'Special Discount(in Rs.)': 10},\n",
       " '8449': {'Name': 'Gillette Classic Sensitive Shave Foam',\n",
       "  'Brand': 'Gillette',\n",
       "  'Product_Type': 'Shaving cream',\n",
       "  'Quantity': 6,\n",
       "  'Unit_Price': 182,\n",
       "  'Expiry Date': 'Best Before 12 Months',\n",
       "  'Special Discount(in Rs.)': 3},\n",
       " '8450': {'Name': 'Cinthol',\n",
       "  'Brand': 'Godrej',\n",
       "  'Product_Type': 'Bathing soap',\n",
       "  'Quantity': 30,\n",
       "  'Unit_Price': 28,\n",
       "  'Expiry Date': 'Best Before 15 Months',\n",
       "  'Special Discount(in Rs.)': 0},\n",
       " '8444': {'Name': 'Sunfeast YiPPee',\n",
       "  'Brand': 'ITC company',\n",
       "  'Product_Type': 'Noodles',\n",
       "  'Quantity': 40,\n",
       "  'Unit_Price': 10,\n",
       "  'Expiry Date': 'Best Before 8 Months',\n",
       "  'Special Discount(in Rs.)': 0},\n",
       " '8446': {'Name': 'Dove Intense Repair Shampoo',\n",
       "  'Brand': 'Hindustan Unilever Limited',\n",
       "  'Product_Type': 'Shampoo',\n",
       "  'Quantity': 18,\n",
       "  'Unit_Price': 96,\n",
       "  'Expiry Date': 'Best Before 7 Months',\n",
       "  'Special Discount(in Rs.)': 0},\n",
       " '8432': {'Name': 'Dabur Amla',\n",
       "  'Brand': 'Dabur',\n",
       "  'Product_Type': 'Hair Oil',\n",
       "  'Quantity': 6,\n",
       "  'Unit_Price': 199,\n",
       "  'Expiry Date': 'Best Before 24 Months',\n",
       "  'Special Discount(in Rs.)': 0},\n",
       " '8433': {'Name': 'Wild Stone',\n",
       "  'Brand': 'McNroe',\n",
       "  'Product_Type': 'Deodarant',\n",
       "  'Quantity': 4,\n",
       "  'Unit_Price': 318,\n",
       "  'Expiry Date': 'Best Before 24 Months',\n",
       "  'Special Discount(in Rs.)': 30},\n",
       " '8426': {'Name': 'Sunfeast Pasta Cheese',\n",
       "  'Brand': 'ITC company',\n",
       "  'Product_Type': 'Pasta',\n",
       "  'Quantity': 20,\n",
       "  'Unit_Price': 25,\n",
       "  'Expiry Date': 'Best Before 6 Months',\n",
       "  'Special Discount(in Rs.)': 0},\n",
       " '8422': {'Name': 'AXE Ice Chill Shaving Foam',\n",
       "  'Brand': 'AXE',\n",
       "  'Product_Type': 'Shaving cream',\n",
       "  'Quantity': 5,\n",
       "  'Unit_Price': 170,\n",
       "  'Expiry Date': 'Best Before 8 Months',\n",
       "  'Special Discount(in Rs.)': 0},\n",
       " '8429': {'Name': 'WOW Skin Science Onion Shampoo',\n",
       "  'Brand': 'WOW',\n",
       "  'Product_Type': 'Shampoo',\n",
       "  'Quantity': 3,\n",
       "  'Unit_Price': 375,\n",
       "  'Expiry Date': 'Best Before 4 Months',\n",
       "  'Special Discount(in Rs.)': 20},\n",
       " '8442': {'Name': 'Tops Ketchup',\n",
       "  'Brand': 'G. D. Foods',\n",
       "  'Product_Type': 'Tomato Ketchup / Sauce',\n",
       "  'Quantity': 20,\n",
       "  'Unit_Price': 130,\n",
       "  'Expiry Date': 'Best Before 6 Months',\n",
       "  'Special Discount(in Rs.)': 20},\n",
       " '8438': {'Name': 'Vaseline Intensive Care',\n",
       "  'Brand': 'Unilever global company',\n",
       "  'Product_Type': 'Body lotion',\n",
       "  'Quantity': 30,\n",
       "  'Unit_Price': 237,\n",
       "  'Expiry Date': 'Best Before 21 Months',\n",
       "  'Special Discount(in Rs.)': 5},\n",
       " '8427': {'Name': 'Borges Penne Durum Wheat Pasta',\n",
       "  'Brand': 'Borges',\n",
       "  'Product_Type': 'Pasta',\n",
       "  'Quantity': 15,\n",
       "  'Unit_Price': 136,\n",
       "  'Expiry Date': 'Best Before 4 Months',\n",
       "  'Special Discount(in Rs.)': 3},\n",
       " '8445': {'Name': 'NIVEA MEN Shaving Foam',\n",
       "  'Brand': 'NIVEA',\n",
       "  'Product_Type': 'Shaving cream',\n",
       "  'Quantity': 8,\n",
       "  'Unit_Price': 200,\n",
       "  'Expiry Date': 'Best Before 14 Months',\n",
       "  'Special Discount(in Rs.)': 2},\n",
       " '8421': {'Name': 'Nescafe',\n",
       "  'Brand': 'Nestlé',\n",
       "  'Product_Type': 'Coffee',\n",
       "  'Quantity': 20,\n",
       "  'Unit_Price': 285,\n",
       "  'Expiry Date': 'Best Before 7 Months',\n",
       "  'Special Discount(in Rs.)': 5},\n",
       " '8448': {'Name': 'Medimix',\n",
       "  'Brand': 'Cholayil',\n",
       "  'Product_Type': 'Bathing soap',\n",
       "  'Quantity': 30,\n",
       "  'Unit_Price': 45,\n",
       "  'Expiry Date': 'Best Before 6 Months',\n",
       "  'Special Discount(in Rs.)': 0},\n",
       " '8435': {'Name': 'Bajaj almond hair Oil',\n",
       "  'Brand': 'Bajaj',\n",
       "  'Product_Type': 'Hair Oil',\n",
       "  'Quantity': 4,\n",
       "  'Unit_Price': 250,\n",
       "  'Expiry Date': 'Best Before 16 Months',\n",
       "  'Special Discount(in Rs.)': 0},\n",
       " '8434': {'Name': 'Fogg',\n",
       "  'Brand': 'Vini Cosmetics Private Limited',\n",
       "  'Product_Type': 'Deodarant',\n",
       "  'Quantity': 7,\n",
       "  'Unit_Price': 184,\n",
       "  'Expiry Date': 'Best Before 24 Months',\n",
       "  'Special Discount(in Rs.)': 0},\n",
       " '8440': {'Name': 'Kissan Fresh Tomato Ketchup ',\n",
       "  'Brand': 'Hindustan Unilever Limited',\n",
       "  'Product_Type': 'Tomato Ketchup / Sauce',\n",
       "  'Quantity': 12,\n",
       "  'Unit_Price': 130,\n",
       "  'Expiry Date': 'Best Before 4 Months',\n",
       "  'Special Discount(in Rs.)': 0},\n",
       " '8437': {'Name': 'Mother Dairy Butter ',\n",
       "  'Brand': 'Mother Dairy',\n",
       "  'Product_Type': 'Butter',\n",
       "  'Quantity': 42,\n",
       "  'Unit_Price': 48,\n",
       "  'Expiry Date': 'Best Before 12 Months',\n",
       "  'Special Discount(in Rs.)': 0},\n",
       " '8425': {'Name': 'Dettol Instant Hand Sanitizer',\n",
       "  'Brand': 'Dettol',\n",
       "  'Product_Type': 'Hand Sanitizer',\n",
       "  'Quantity': 10,\n",
       "  'Unit_Price': 46,\n",
       "  'Expiry Date': \"'Best Before 12 Months'\",\n",
       "  'Special Discount(in Rs.)': '0'},\n",
       " '8447': {'Name': 'Close Up',\n",
       "  'Brand': 'Hindustan Unilever',\n",
       "  'Product_Type': 'Toothpaste',\n",
       "  'Quantity': 25,\n",
       "  'Unit_Price': 65,\n",
       "  'Expiry Date': \"'Best Before 12 Months'\",\n",
       "  'Special Discount(in Rs.)': '2'}}"
      ]
     },
     "execution_count": 31,
     "metadata": {},
     "output_type": "execute_result"
    }
   ],
   "source": [
    "record"
   ]
  },
  {
   "cell_type": "markdown",
   "id": "e1e48003",
   "metadata": {},
   "source": [
    "## Updating Inventory"
   ]
  },
  {
   "cell_type": "code",
   "execution_count": 32,
   "id": "b75f1f43",
   "metadata": {},
   "outputs": [],
   "source": [
    "js=json.dumps(record)\n",
    "\n",
    "fd=open('record.json','w')\n",
    "fd.write(js)\n",
    "fd.close()"
   ]
  },
  {
   "cell_type": "code",
   "execution_count": null,
   "id": "2c779868",
   "metadata": {},
   "outputs": [],
   "source": []
  }
 ],
 "metadata": {
  "kernelspec": {
   "display_name": "Python 3",
   "language": "python",
   "name": "python3"
  },
  "language_info": {
   "codemirror_mode": {
    "name": "ipython",
    "version": 3
   },
   "file_extension": ".py",
   "mimetype": "text/x-python",
   "name": "python",
   "nbconvert_exporter": "python",
   "pygments_lexer": "ipython3",
   "version": "3.8.8"
  }
 },
 "nbformat": 4,
 "nbformat_minor": 5
}
